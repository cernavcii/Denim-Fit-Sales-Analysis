{
 "cells": [
  {
   "cell_type": "markdown",
   "id": "9d60fe8e",
   "metadata": {},
   "source": [
    "### SALES"
   ]
  },
  {
   "cell_type": "code",
   "execution_count": 44,
   "id": "2e3ab6e4",
   "metadata": {},
   "outputs": [],
   "source": [
    "import pandas as pd\n",
    "import numpy as np\n",
    "import matplotlib.pyplot as plt\n",
    "import seaborn as sns"
   ]
  },
  {
   "cell_type": "code",
   "execution_count": 22,
   "id": "2f4f16f9",
   "metadata": {},
   "outputs": [],
   "source": [
    "sales = pd.read_excel(\"C:/Users/ceren/Desktop/sales.xlsx\")"
   ]
  },
  {
   "cell_type": "code",
   "execution_count": 23,
   "id": "7eb71bf8",
   "metadata": {},
   "outputs": [],
   "source": [
    "# 1. ReturnFlag -> kategoriye çevirme\n",
    "sales[\"ReturnFlag\"] = sales[\"ReturnFlag\"].map({0: \"Satış\", 1: \"İade\"})"
   ]
  },
  {
   "cell_type": "code",
   "execution_count": 24,
   "id": "7767bf2c",
   "metadata": {},
   "outputs": [],
   "source": [
    "# 2. ChangeCardFlag -> kategoriye çevirme\n",
    "sales[\"ChangeCardFlag\"] = sales[\"ChangeCardFlag\"].map({0: \"Kart Değişimi Yok\", 1: \"Kart Değişimi Var\"})"
   ]
  },
  {
   "cell_type": "code",
   "execution_count": 25,
   "id": "f411732b",
   "metadata": {},
   "outputs": [],
   "source": [
    "# 3. Time -> HH:MM formatına dönüştürme\n",
    "sales[\"Time\"] = sales[\"Time\"].apply(lambda x: f\"{int(x//100):02d}:{int(x%100):02d}\")"
   ]
  },
  {
   "cell_type": "code",
   "execution_count": 31,
   "id": "fdb4ab58",
   "metadata": {},
   "outputs": [],
   "source": [
    "# 4. Quantity, Amount, DiscountAmount -> Mutlak değer\n",
    "sales[\"Quantity\"] = sales[\"Quantity\"].abs()\n",
    "sales[\"Amount\"] = sales[\"Amount\"].abs()\n",
    "sales[\"DiscountAmount\"] = sales[\"DiscountAmount\"].abs()"
   ]
  },
  {
   "cell_type": "code",
   "execution_count": 33,
   "id": "54608e4b",
   "metadata": {},
   "outputs": [],
   "source": [
    "# Date kolonunu datetime tipine çevirip ISO formatında string yapalım\n",
    "sales[\"Date\"] = pd.to_datetime(sales[\"Date\"]).dt.strftime(\"%Y-%m-%d\")"
   ]
  },
  {
   "cell_type": "code",
   "execution_count": 28,
   "id": "c6e1f99c",
   "metadata": {},
   "outputs": [
    {
     "data": {
      "text/html": [
       "<div>\n",
       "<style scoped>\n",
       "    .dataframe tbody tr th:only-of-type {\n",
       "        vertical-align: middle;\n",
       "    }\n",
       "\n",
       "    .dataframe tbody tr th {\n",
       "        vertical-align: top;\n",
       "    }\n",
       "\n",
       "    .dataframe thead th {\n",
       "        text-align: right;\n",
       "    }\n",
       "</style>\n",
       "<table border=\"1\" class=\"dataframe\">\n",
       "  <thead>\n",
       "    <tr style=\"text-align: right;\">\n",
       "      <th></th>\n",
       "      <th>DocID</th>\n",
       "      <th>StoreCode</th>\n",
       "      <th>ProductItemCode</th>\n",
       "      <th>ProductCode</th>\n",
       "      <th>Date</th>\n",
       "      <th>ReturnFlag</th>\n",
       "      <th>Time</th>\n",
       "      <th>Quantity</th>\n",
       "      <th>Amount</th>\n",
       "      <th>DiscountAmount</th>\n",
       "      <th>ChangeCardFlag</th>\n",
       "    </tr>\n",
       "  </thead>\n",
       "  <tbody>\n",
       "    <tr>\n",
       "      <th>0</th>\n",
       "      <td>1</td>\n",
       "      <td>1837</td>\n",
       "      <td>M100462-80835007</td>\n",
       "      <td>M100462-80835</td>\n",
       "      <td>2024-02-18</td>\n",
       "      <td>İade</td>\n",
       "      <td>17:36</td>\n",
       "      <td>2</td>\n",
       "      <td>1396.35</td>\n",
       "      <td>349.09091</td>\n",
       "      <td>Kart Değişimi Yok</td>\n",
       "    </tr>\n",
       "    <tr>\n",
       "      <th>1</th>\n",
       "      <td>2</td>\n",
       "      <td>1851</td>\n",
       "      <td>M100462-80835007</td>\n",
       "      <td>M100462-80835</td>\n",
       "      <td>2024-04-07</td>\n",
       "      <td>Satış</td>\n",
       "      <td>18:53</td>\n",
       "      <td>2</td>\n",
       "      <td>999.99</td>\n",
       "      <td>745.44545</td>\n",
       "      <td>Kart Değişimi Yok</td>\n",
       "    </tr>\n",
       "    <tr>\n",
       "      <th>2</th>\n",
       "      <td>3</td>\n",
       "      <td>1666</td>\n",
       "      <td>M100462-80835007</td>\n",
       "      <td>M100462-80835</td>\n",
       "      <td>2024-02-04</td>\n",
       "      <td>Satış</td>\n",
       "      <td>16:03</td>\n",
       "      <td>2</td>\n",
       "      <td>1396.35</td>\n",
       "      <td>349.09091</td>\n",
       "      <td>Kart Değişimi Yok</td>\n",
       "    </tr>\n",
       "    <tr>\n",
       "      <th>3</th>\n",
       "      <td>4</td>\n",
       "      <td>1666</td>\n",
       "      <td>M100462-80835007</td>\n",
       "      <td>M100462-80835</td>\n",
       "      <td>2024-02-02</td>\n",
       "      <td>Satış</td>\n",
       "      <td>19:56</td>\n",
       "      <td>2</td>\n",
       "      <td>1396.35</td>\n",
       "      <td>349.09091</td>\n",
       "      <td>Kart Değişimi Yok</td>\n",
       "    </tr>\n",
       "    <tr>\n",
       "      <th>4</th>\n",
       "      <td>5</td>\n",
       "      <td>1673</td>\n",
       "      <td>M101437-80890010</td>\n",
       "      <td>M101437-80890</td>\n",
       "      <td>2024-02-17</td>\n",
       "      <td>İade</td>\n",
       "      <td>12:03</td>\n",
       "      <td>1</td>\n",
       "      <td>581.81</td>\n",
       "      <td>145.45455</td>\n",
       "      <td>Kart Değişimi Yok</td>\n",
       "    </tr>\n",
       "  </tbody>\n",
       "</table>\n",
       "</div>"
      ],
      "text/plain": [
       "   DocID  StoreCode   ProductItemCode    ProductCode       Date ReturnFlag  \\\n",
       "0      1       1837  M100462-80835007  M100462-80835 2024-02-18       İade   \n",
       "1      2       1851  M100462-80835007  M100462-80835 2024-04-07      Satış   \n",
       "2      3       1666  M100462-80835007  M100462-80835 2024-02-04      Satış   \n",
       "3      4       1666  M100462-80835007  M100462-80835 2024-02-02      Satış   \n",
       "4      5       1673  M101437-80890010  M101437-80890 2024-02-17       İade   \n",
       "\n",
       "    Time  Quantity   Amount  DiscountAmount     ChangeCardFlag  \n",
       "0  17:36         2  1396.35       349.09091  Kart Değişimi Yok  \n",
       "1  18:53         2   999.99       745.44545  Kart Değişimi Yok  \n",
       "2  16:03         2  1396.35       349.09091  Kart Değişimi Yok  \n",
       "3  19:56         2  1396.35       349.09091  Kart Değişimi Yok  \n",
       "4  12:03         1   581.81       145.45455  Kart Değişimi Yok  "
      ]
     },
     "execution_count": 28,
     "metadata": {},
     "output_type": "execute_result"
    }
   ],
   "source": [
    "sales.head()"
   ]
  },
  {
   "cell_type": "code",
   "execution_count": 45,
   "id": "4c27e729",
   "metadata": {},
   "outputs": [],
   "source": [
    "# 4) Temiz veriyi kaydet\n",
    "sales.to_excel(\"sales_clean.xlsx\", index=False, encoding=\"utf-8-sig\")"
   ]
  },
  {
   "cell_type": "markdown",
   "id": "6701ae4d",
   "metadata": {},
   "source": [
    "### Products"
   ]
  },
  {
   "cell_type": "code",
   "execution_count": 36,
   "id": "4a1487a7",
   "metadata": {},
   "outputs": [],
   "source": [
    "products = pd.read_excel(\"C:/Users/ceren/Desktop/products.xlsx\")"
   ]
  },
  {
   "cell_type": "code",
   "execution_count": 39,
   "id": "2eb90d6d",
   "metadata": {},
   "outputs": [],
   "source": [
    "for col in [\"MainCategoryEN\",\"CategoryEN\",\"SubCategoryEN\"]:\n",
    "    products[col].fillna(products[col].mode()[0], inplace=True)"
   ]
  },
  {
   "cell_type": "code",
   "execution_count": 40,
   "id": "7e413cea",
   "metadata": {},
   "outputs": [],
   "source": [
    "cols = [\"SubCategoryClassEN\"]\n",
    "products[cols] = products[cols].fillna(\"Flare\")"
   ]
  },
  {
   "cell_type": "code",
   "execution_count": 43,
   "id": "1ead39ed",
   "metadata": {},
   "outputs": [],
   "source": [
    "# 3) Temiz veriyi kaydet\n",
    "products.to_excel(\"products_clean.xlsx\", index=False, encoding=\"utf-8-sig\")"
   ]
  },
  {
   "cell_type": "code",
   "execution_count": null,
   "id": "f9a6a041",
   "metadata": {},
   "outputs": [],
   "source": []
  },
  {
   "cell_type": "code",
   "execution_count": null,
   "id": "69399402",
   "metadata": {},
   "outputs": [],
   "source": []
  },
  {
   "cell_type": "code",
   "execution_count": null,
   "id": "948ab1e7",
   "metadata": {},
   "outputs": [],
   "source": []
  }
 ],
 "metadata": {
  "kernelspec": {
   "display_name": "Python 3 (ipykernel)",
   "language": "python",
   "name": "python3"
  },
  "language_info": {
   "codemirror_mode": {
    "name": "ipython",
    "version": 3
   },
   "file_extension": ".py",
   "mimetype": "text/x-python",
   "name": "python",
   "nbconvert_exporter": "python",
   "pygments_lexer": "ipython3",
   "version": "3.9.13"
  }
 },
 "nbformat": 4,
 "nbformat_minor": 5
}
